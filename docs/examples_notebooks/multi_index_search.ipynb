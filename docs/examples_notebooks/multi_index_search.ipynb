{
 "cells": [
  {
   "cell_type": "markdown",
   "metadata": {},
   "source": [
    "# Multi Index Search\n",
    "This notebook demonstrates multi-index search using the GraphRAG API.\n",
    "\n",
    "Indexes created from Wikipedia state articles for Alaska, California, DC, Maryland, NY and Washington are used."
   ]
  },
  {
   "cell_type": "code",
   "execution_count": 2,
   "metadata": {},
   "outputs": [
    {
     "name": "stdout",
     "output_type": "stream",
     "text": [
      "['alaska', 'california', 'dc', 'maryland', 'ny', 'washington']\n"
     ]
    }
   ],
   "source": [
    "from graphrag.config.create_graphrag_config import create_graphrag_config\n",
    "from graphrag.api.query import multi_index_global_search, multi_index_local_search, multi_index_drift_search, multi_index_basic_search\n",
    "import asyncio\n",
    "import pandas as pd\n",
    "\n",
    "indexes = [\"alaska\", \"california\", \"dc\", \"maryland\", \"ny\", \"washington\"]\n",
    "indexes = sorted(indexes)\n",
    "\n",
    "print(indexes)\n",
    "\n",
    "vector_store_configs = {\n",
    "    index: {'type': 'lancedb', 'db_uri': f'inputs/{index}/lancedb', 'container_name': 'default', 'overwrite': True, 'index_name': f'{index}'} for index in indexes\n",
    "}"
   ]
  },
  {
   "cell_type": "code",
   "execution_count": 10,
   "metadata": {},
   "outputs": [],
   "source": [
    "config_data = {\n",
    "    'models': {\n",
    "        'default_chat_model': {\n",
    "            'model_supports_json': True, \n",
    "            'parallelization_num_threads': 50, \n",
    "            'parallelization_stagger': 0.3, \n",
    "            'async_mode': 'threaded', \n",
    "            'type': 'azure_openai_chat', \n",
    "            'model': 'gpt-4o',\n",
    "            'auth_type': 'azure_managed_identity', \n",
    "            'api_base': 'api_base': \"<API_BASE_URL>\", , \n",
    "            'api_version': '2024-02-15-preview', \n",
    "            'deployment_name': 'gpt-4o'\n",
    "        }, \n",
    "        'default_embedding_model': {\n",
    "            'parallelization_num_threads': 50, \n",
    "            'parallelization_stagger': 0.3,  \n",
    "            'async_mode': 'threaded', \n",
    "            'type': 'azure_openai_embedding', \n",
    "            'model': 'text-embedding-3-large',\n",
    "            'auth_type': 'azure_managed_identity',  \n",
    "            'api_base': \"<API_BASE_URL>\", \n",
    "            'api_version': '2024-02-15-preview', \n",
    "            'deployment_name': 'text-embedding-3-large'\n",
    "        }\n",
    "    }, \n",
    "    'vector_store': vector_store_configs, \n",
    "    'local_search': {\n",
    "        'prompt': 'prompts/local_search_system_prompt.txt',\n",
    "        'llm_max_tokens': 12000\n",
    "    }, \n",
    "    'global_search': {\n",
    "        'map_prompt': 'prompts/global_search_map_system_prompt.txt',\n",
    "        'reduce_prompt': 'prompts/global_search_reduce_system_prompt.txt',\n",
    "        'knowledge_prompt': 'prompts/global_search_knowledge_system_prompt.txt'\n",
    "    }, \n",
    "    'drift_search': {\n",
    "        'prompt': 'prompts/drift_search_system_prompt.txt',\n",
    "        'reduce_prompt': 'prompts/drift_search_reduce_prompt.txt'\n",
    "    }, \n",
    "    'basic_search': {\n",
    "        'prompt': 'prompts/basic_search_system_prompt.txt'\n",
    "    }\n",
    "}\n",
    "parameters = create_graphrag_config(config_data, \".\")\n",
    "loop = asyncio.get_event_loop()"
   ]
  },
  {
   "cell_type": "markdown",
   "metadata": {},
   "source": [
    "### Multi-index Global Search"
   ]
  },
  {
   "cell_type": "code",
   "execution_count": null,
   "metadata": {},
   "outputs": [],
   "source": [
    "nodes = [pd.read_parquet(f\"inputs/{index}/create_final_nodes.parquet\") for index in indexes]\n",
    "entities = [pd.read_parquet(f\"inputs/{index}/create_final_entities.parquet\") for index in indexes]\n",
    "communities = [pd.read_parquet(f\"inputs/{index}/create_final_communities.parquet\") for index in indexes]\n",
    "community_reports = [pd.read_parquet(f\"inputs/{index}/create_final_community_reports.parquet\") for index in indexes]\n",
    "\n",
    "task = loop.create_task(multi_index_global_search(parameters, nodes, entities, communities, community_reports, indexes, 1, False, \"Multiple Paragraphs\", False, \"Describe this dataset.\"))\n",
    "results = await task"
   ]
  },
  {
   "cell_type": "markdown",
   "metadata": {},
   "source": [
    "#### Print report"
   ]
  },
  {
   "cell_type": "code",
   "execution_count": 9,
   "metadata": {},
   "outputs": [
    {
     "name": "stdout",
     "output_type": "stream",
     "text": [
      "## Overview of the Dataset\n",
      "\n",
      "The dataset comprises a collection of reports that cover a diverse array of topics, including historical events, cultural dynamics, geographical regions, political transitions, and significant landmarks across various regions in the United States. Each report is uniquely identified by an ID and includes a title, occurrence weight, content, and rank. These elements help in understanding the importance and relevance of each report within the dataset.\n",
      "\n",
      "## Content and Structure\n",
      "\n",
      "The content of each report provides detailed information on its respective subject, often highlighting key entities, relationships, and historical significance. The reports are supported by data references that link to entities and relationships within the dataset, providing context and evidence for the points discussed. This structure allows for an in-depth exploration of each topic, supported by data references [Data: Reports (47, 114, 184, 164, 45, +more)].\n",
      "\n",
      "## Topics Covered\n",
      "\n",
      "The dataset covers a wide range of topics, including:\n",
      "\n",
      "- **Historical Events and Figures**: Reports provide insights into significant historical events and figures, such as the Treaty of Guadalupe Hidalgo and the political careers of notable figures like Martin O'Malley and Robert Ehrlich in Maryland [Data: Reports (123, 79, 160, +more)].\n",
      "- **Cultural and Economic Significance**: The reports delve into the cultural and economic significance of regions like California and Los Angeles, highlighting their impact on the broader landscape.\n",
      "- **Geographical and Political Context**: The dataset includes information on geographical regions such as the Potomac River and the Columbia River, as well as political and institutional landscapes like Washington, D.C. [Data: Reports (47, 114, 184, 164, 173, +more)].\n",
      "\n",
      "## Importance and Relevance\n",
      "\n",
      "Each report is associated with an occurrence weight and rank, which may indicate the relevance or frequency of the topic within the dataset. These metrics help prioritize the importance of each report, although the exact criteria for these metrics are not specified. The dataset is structured to allow for the extraction of key points and insights related to the topics covered, facilitating the generation of responses to specific questions based on the data provided.\n",
      "\n",
      "In summary, this dataset serves as a comprehensive resource for understanding the historical, cultural, and geographical significance of various regions and events in the United States. It provides a rich source of information for research and analysis, supported by detailed content and data references.\n"
     ]
    }
   ],
   "source": [
    "print(results[0])"
   ]
  },
  {
   "cell_type": "markdown",
   "metadata": {},
   "source": [
    "#### Show context links back to original index"
   ]
  },
  {
   "cell_type": "code",
   "execution_count": 8,
   "metadata": {},
   "outputs": [
    {
     "name": "stdout",
     "output_type": "stream",
     "text": [
      "29 alaska 29\n",
      "Alaska: Cultural, Economic, and Geopolitical Hub\n",
      "Alaska: Cultural, Economic, and Geopolitical Hub\n",
      "82 california 35\n",
      "Los Angeles and the 2028 Summer Olympics\n",
      "Los Angeles and the 2028 Summer Olympics\n",
      "91 california 44\n",
      "Central Valley and Its Key Waterways\n",
      "Central Valley and Its Key Waterways\n",
      "135 dc 41\n",
      "National Park Service and Washington, D.C. Parks\n",
      "National Park Service and Washington, D.C. Parks\n",
      "131 dc 37\n",
      "Kingman Island and Anacostia River Community\n",
      "Kingman Island and Anacostia River Community\n"
     ]
    }
   ],
   "source": [
    "for report_id in [29, 82, 91, 135, 131]:\n",
    "    index_name = [i for i in results[1][\"reports\"] if i[\"id\"] == str(report_id)][0]['index_name']\n",
    "    index_id = [i for i in results[1][\"reports\"] if i[\"id\"] == str(report_id)][0]['index_id']\n",
    "    print(report_id, index_name, index_id)\n",
    "    index_reports = pd.read_parquet(f\"inputs/{index_name}/create_final_community_reports.parquet\")\n",
    "    print([i for i in results[1][\"reports\"] if i[\"id\"] == str(report_id)][0][\"title\"])\n",
    "    print(index_reports[index_reports[\"community\"] == int(index_id)][\"title\"].values[0])"
   ]
  },
  {
   "cell_type": "markdown",
   "metadata": {},
   "source": [
    "#### Multi-index Local Search"
   ]
  },
  {
   "cell_type": "code",
   "execution_count": null,
   "metadata": {},
   "outputs": [],
   "source": [
    "nodes = [pd.read_parquet(f\"inputs/{index}/create_final_nodes.parquet\") for index in indexes]\n",
    "entities = [pd.read_parquet(f\"inputs/{index}/create_final_entities.parquet\") for index in indexes]\n",
    "community_reports = [pd.read_parquet(f\"inputs/{index}/create_final_community_reports.parquet\") for index in indexes]\n",
    "covariates = [pd.read_parquet(f\"inputs/{index}/create_final_covariates.parquet\") for index in indexes]\n",
    "text_units = [pd.read_parquet(f\"inputs/{index}/create_final_text_units.parquet\") for index in indexes]\n",
    "relationships = [pd.read_parquet(f\"inputs/{index}/create_final_relationships.parquet\") for index in indexes]\n",
    "\n",
    "task = loop.create_task(multi_index_local_search(parameters, nodes, entities, community_reports, text_units, relationships, covariates, indexes, 1, \"Multiple Paragraphs\", False, \"weather\"))\n",
    "results = await task"
   ]
  },
  {
   "cell_type": "markdown",
   "metadata": {},
   "source": [
    "#### Print report"
   ]
  },
  {
   "cell_type": "code",
   "execution_count": 15,
   "metadata": {},
   "outputs": [
    {
     "name": "stdout",
     "output_type": "stream",
     "text": [
      "### Weather Patterns in California and Washington\n",
      "\n",
      "#### California's Climate\n",
      "\n",
      "California exhibits a wide range of climates due to its diverse geography, which includes coastal areas, mountains, and deserts. The state experiences a Mediterranean climate in the Central Valley and coastal regions, characterized by wet winters and dry summers. The Sierra Nevada mountains have an alpine climate with snow in winter and mild summers, while the eastern side of the mountains creates rain shadows, leading to desert conditions in areas like Death Valley, which is one of the hottest places on Earth [Data: Reports (47); Entities (500, 502, 506)].\n",
      "\n",
      "The state's climate diversity results in varying weather patterns, with northern regions receiving more rainfall than the south. The demand for water is high due to these climatic variations, and droughts have become more frequent, exacerbated by climate change and overextraction of water resources [Data: Reports (47); Claims (100)].\n",
      "\n",
      "#### Washington's Climate\n",
      "\n",
      "Washington State's climate is influenced by its location in the Pacific Northwest and its varied topography, including the Cascade Range and the Olympic Mountains. Western Washington has a marine climate with mild temperatures and significant rainfall, especially on the windward side of the mountains. The region is known for its cloudy and rainy weather, particularly in the winter months [Data: Reports (213); Sources (89)].\n",
      "\n",
      "Eastern Washington, in contrast, experiences a semi-arid climate due to the rain shadow effect of the Cascades. This area has less precipitation and more extreme temperature variations, with hot summers and cold winters. The state is also affected by climate patterns such as the Southern Oscillation, which includes El Niño and La Niña phases, impacting precipitation and temperature [Data: Entities (1960, 1961, 1962); Relationships (1805, 1806)].\n",
      "\n",
      "#### Environmental Impacts\n",
      "\n",
      "Both states face environmental challenges related to their weather patterns. California's diverse ecosystems are threatened by urbanization, logging, and climate change, which have led to increased wildfire risks and water scarcity. Efforts to manage these issues include water conservation projects and initiatives to revive traditional land management practices, such as controlled burns [Data: Reports (47)].\n",
      "\n",
      "Washington's commitment to environmental sustainability is reflected in its conservation efforts and the protection of natural areas like national parks. The state's weather patterns, influenced by atmospheric phenomena like the Pineapple Express, bring heavy rainfall, which can lead to flooding and other environmental impacts [Data: Reports (213); Entities (1950)].\n",
      "\n",
      "In summary, both California and Washington have unique weather patterns shaped by their geography and climate influences. These patterns have significant implications for environmental management and resource conservation in each state.\n"
     ]
    }
   ],
   "source": [
    "print(results[0])"
   ]
  },
  {
   "cell_type": "markdown",
   "metadata": {},
   "source": [
    "#### Show context links back to original index"
   ]
  },
  {
   "cell_type": "code",
   "execution_count": 16,
   "metadata": {},
   "outputs": [
    {
     "name": "stdout",
     "output_type": "stream",
     "text": [
      "47 california 0\n",
      "California: A Hub of Cultural, Economic, and Environmental Significance\n",
      "California: A Hub of Cultural, Economic, and Environmental Significance\n",
      "213 washington 0\n",
      "Washington State: Economic and Cultural Hub\n",
      "Washington State: Economic and Cultural Hub\n",
      "500 california 161\n",
      "Boca is a location in California where the lowest temperature in the state, −45 °F, was recorded on \n",
      "Boca is a location in California where the lowest temperature in the state, −45 °F, was recorded on \n",
      "502 california 163\n",
      "Mammoth is a location in the Sierra Nevada, California, known for its mountain climate\n",
      "Mammoth is a location in the Sierra Nevada, California, known for its mountain climate\n",
      "506 california 167\n",
      "Eureka is a city in California known for its cool summers in the Humboldt Bay region\n",
      "Eureka is a city in California known for its cool summers in the Humboldt Bay region\n",
      "1960 washington 104\n",
      "The Southern Oscillation is a climate pattern that influences weather during the cold season, affect\n",
      "The Southern Oscillation is a climate pattern that influences weather during the cold season, affect\n",
      "1961 washington 105\n",
      "El Niño is a phase of the Southern Oscillation that causes drier and less snowy conditions in Washin\n",
      "El Niño is a phase of the Southern Oscillation that causes drier and less snowy conditions in Washin\n",
      "1962 washington 106\n",
      "La Niña is a phase of the Southern Oscillation that causes more rain and snow in Washington\n",
      "La Niña is a phase of the Southern Oscillation that causes more rain and snow in Washington\n",
      "1805 washington 92\n",
      "El Niño is a phase of the Southern Oscillation\n",
      "El Niño is a phase of the Southern Oscillation\n",
      "1806 washington 93\n",
      "La Niña is a phase of the Southern Oscillation\n",
      "La Niña is a phase of the Southern Oscillation\n",
      "1806 california 35\n",
      "The lowest temperature in California was −45 °F (−43 °C) recorded in Boca on January 20, 1937.\n",
      "The lowest temperature in California was −45 °F (−43 °C) recorded in Boca on January 20, 1937.\n"
     ]
    }
   ],
   "source": [
    "for report_id in [47, 213]:\n",
    "    index_name = [i for i in results[1][\"reports\"] if i[\"id\"] == str(report_id)][0]['index_name']\n",
    "    index_id = [i for i in results[1][\"reports\"] if i[\"id\"] == str(report_id)][0]['index_id']\n",
    "    print(report_id, index_name, index_id)\n",
    "    index_reports = pd.read_parquet(f\"inputs/{index_name}/create_final_community_reports.parquet\")\n",
    "    print([i for i in results[1][\"reports\"] if i[\"id\"] == str(report_id)][0][\"title\"])\n",
    "    print(index_reports[index_reports[\"community\"] == int(index_id)][\"title\"].values[0])\n",
    "for entity_id in [500, 502, 506, 1960, 1961, 1962]:\n",
    "    index_name = [i for i in results[1][\"entities\"] if i[\"id\"] == str(entity_id)][0]['index_name']\n",
    "    index_id = [i for i in results[1][\"entities\"] if i[\"id\"] == str(entity_id)][0]['index_id']\n",
    "    print(entity_id, index_name, index_id)\n",
    "    index_entities = pd.read_parquet(f\"inputs/{index_name}/create_final_entities.parquet\")\n",
    "    print([i for i in results[1][\"entities\"] if i[\"id\"] == str(entity_id)][0][\"description\"][:100])\n",
    "    print(index_entities[index_entities[\"human_readable_id\"] == int(index_id)][\"description\"].values[0][:100])\n",
    "for relationship_id in [1805, 1806]:\n",
    "    index_name = [i for i in results[1][\"relationships\"] if i[\"id\"] == str(relationship_id)][0]['index_name']\n",
    "    index_id = [i for i in results[1][\"relationships\"] if i[\"id\"] == str(relationship_id)][0]['index_id']\n",
    "    print(relationship_id, index_name, index_id)\n",
    "    index_relationships = pd.read_parquet(f\"inputs/{index_name}/create_final_relationships.parquet\")\n",
    "    print([i for i in results[1][\"relationships\"] if i[\"id\"] == str(relationship_id)][0]['description'])\n",
    "    print(index_relationships[index_relationships[\"human_readable_id\"] == int(index_id)][\"description\"].values[0])\n",
    "for claim_id in [100]:\n",
    "    index_name = [i for i in results[1][\"claims\"] if i[\"id\"] == str(claim_id)][0]['index_name']\n",
    "    index_id = [i for i in results[1][\"claims\"] if i[\"id\"] == str(claim_id)][0]['index_id']\n",
    "    print(relationship_id, index_name, index_id)\n",
    "    index_claims = pd.read_parquet(f\"inputs/{index_name}/create_final_covariates.parquet\")\n",
    "    print([i for i in results[1][\"claims\"] if i[\"id\"] == str(claim_id)][0]['description'])\n",
    "    print(index_claims[index_claims[\"human_readable_id\"] == int(index_id)][\"description\"].values[0])"
   ]
  },
  {
   "cell_type": "markdown",
   "metadata": {},
   "source": [
    "### Multi-index Drift Search"
   ]
  },
  {
   "cell_type": "code",
   "execution_count": null,
   "metadata": {},
   "outputs": [],
   "source": [
    "nodes = [pd.read_parquet(f\"inputs/{index}/create_final_nodes.parquet\") for index in indexes]\n",
    "entities = [pd.read_parquet(f\"inputs/{index}/create_final_entities.parquet\") for index in indexes]\n",
    "community_reports = [pd.read_parquet(f\"inputs/{index}/create_final_community_reports.parquet\") for index in indexes]\n",
    "text_units = [pd.read_parquet(f\"inputs/{index}/create_final_text_units.parquet\") for index in indexes]\n",
    "relationships = [pd.read_parquet(f\"inputs/{index}/create_final_relationships.parquet\") for index in indexes]\n",
    "\n",
    "task = loop.create_task(multi_index_drift_search(parameters, nodes, entities, community_reports, text_units, relationships, indexes, 1, \"Multiple Paragraphs\", False, \"agriculture\"))\n",
    "results = await task\n"
   ]
  },
  {
   "cell_type": "markdown",
   "metadata": {},
   "source": [
    "#### Print report"
   ]
  },
  {
   "cell_type": "code",
   "execution_count": 13,
   "metadata": {},
   "outputs": [
    {
     "name": "stdout",
     "output_type": "stream",
     "text": [
      "### Overview of Agriculture in the United States\n",
      "\n",
      "Agriculture is a critical component of the U.S. economy, with significant contributions from various states, each with unique agricultural outputs and challenges. The sector is influenced by factors such as climate, geography, and technological advancements, which shape agricultural practices and productivity.\n",
      "\n",
      "### California: A Leading Agricultural Powerhouse\n",
      "\n",
      "California is a leading agricultural state, producing a diverse range of crops, including milk, almonds, and grapes, which are among the top agricultural products by value [Data: Sources (29)]. The state's agriculture is supported by extensive water management systems, such as the Central Valley Project and the California State Water Project, which are crucial for irrigation in the arid regions [Data: Sources (24, 21)]. However, California faces significant challenges, including water scarcity due to frequent droughts and climate change, which impact agricultural productivity [Data: Sources (20, 21)].\n",
      "\n",
      "### Washington: Diverse Agricultural Output\n",
      "\n",
      "Washington State is renowned for its apple production, particularly in regions like the Wenatchee–Okanogan and Yakima areas [Data: Sources (93)]. The state's agriculture benefits from its diverse climate, supporting the production of various crops such as apples, hops, and cherries. However, climate change poses challenges, including altered precipitation patterns and increased pest pressures, which could impact crop yields [Data: Sources (89, 93)].\n",
      "\n",
      "### Technological Advancements in Agriculture\n",
      "\n",
      "Technological advancements play a crucial role in enhancing agricultural productivity and sustainability. Precision agriculture, which utilizes GPS, drones, and data analytics, allows for efficient resource management and improved crop yields [Data: Reports (47)]. In California, these technologies help address challenges such as water scarcity and labor shortages by optimizing irrigation and reducing resource wastage [Data: Sources (24, 29)].\n",
      "\n",
      "### Environmental and Economic Challenges\n",
      "\n",
      "Agriculture in the U.S. faces several environmental challenges, including soil degradation, water pollution, and biodiversity loss. In California, intensive farming practices have led to soil and water pollution, necessitating sustainable practices to mitigate these impacts [Data: Reports (47)]. Additionally, economic pressures such as fluctuating market prices and labor shortages affect the agricultural sector's viability, requiring innovative solutions to sustain growth and productivity [Data: Sources (29)].\n",
      "\n",
      "### Conclusion\n",
      "\n",
      "Agriculture remains a vital part of the U.S. economy, with states like California and Washington playing significant roles in national and global food production. Addressing the challenges posed by climate change, resource scarcity, and environmental impacts is crucial for ensuring the sustainability and resilience of the agricultural sector. Through technological innovation and sustainable practices, the industry can continue to thrive while minimizing its environmental footprint.\n"
     ]
    }
   ],
   "source": [
    "print(results[0])"
   ]
  },
  {
   "cell_type": "markdown",
   "metadata": {},
   "source": [
    "#### Show context links back to original index"
   ]
  },
  {
   "cell_type": "code",
   "execution_count": 14,
   "metadata": {},
   "outputs": [
    {
     "name": "stdout",
     "output_type": "stream",
     "text": [
      "What specific data does the USDA provide on California agriculture? 47 california 0\n",
      "California: A Hub of Cultural, Economic, and Environmental Significance\n",
      "California: A Hub of Cultural, Economic, and Environmental Significance\n",
      "What specific data does the USDA provide on California agriculture? 24 california 8\n",
      " and Trinity Rivers drain a large area in far northwestern California. The Eel River and Salinas River each drain portions of the California coast, north and south of San Francisco Bay, respectively. The Mojave River is the primary watercourse in the\n",
      " and Trinity Rivers drain a large area in far northwestern California. The Eel River and Salinas River each drain portions of the California coast, north and south of San Francisco Bay, respectively. The Mojave River is the primary watercourse in the\n",
      "How does climate change affect agricultural productivity in Eastern Washington? 93 washington 8\n",
      "Washington is a leading agricultural state. For 2018, the total value of Washington's agricultural products was $10.6 billion. In 2014, Washington ranked first in the nation in production of red raspberries (90.5 percent of total U.S. production), ho\n",
      "Washington is a leading agricultural state. For 2018, the total value of Washington's agricultural products was $10.6 billion. In 2014, Washington ranked first in the nation in production of red raspberries (90.5 percent of total U.S. production), ho\n",
      "What role does the Columbia River play in Washington's agricultural irrigation? 85 washington 0\n",
      "Washington, officially the State of Washington,  is a state in the Pacific Northwest region of the United States. It is often referred to as Washington state or Washington State to distinguish it from the national capital, both named for George Washi\n",
      "Washington, officially the State of Washington,  is a state in the Pacific Northwest region of the United States. It is often referred to as Washington state or Washington State to distinguish it from the national capital, both named for George Washi\n"
     ]
    }
   ],
   "source": [
    "for report_id in [47, 89, 93]:\n",
    "    for question in results[1]:\n",
    "        resq = results[1][question]\n",
    "        if len(resq[\"reports\"]) == 0:\n",
    "            continue\n",
    "        if len([i for i in resq[\"reports\"] if i[\"id\"] == str(report_id)]) == 0:\n",
    "            continue\n",
    "        index_name = [i for i in resq[\"reports\"] if i[\"id\"] == str(report_id)][0]['index_name']\n",
    "        index_id = [i for i in resq[\"reports\"] if i[\"id\"] == str(report_id)][0]['index_id']\n",
    "        print(question, report_id, index_name, index_id)\n",
    "        index_reports = pd.read_parquet(f\"inputs/{index_name}/create_final_community_reports.parquet\")\n",
    "        print([i for i in resq[\"reports\"] if i[\"id\"] == str(report_id)][0][\"title\"])\n",
    "        print(index_reports[index_reports[\"community\"] == int(index_id)][\"title\"].values[0])\n",
    "        break\n",
    "for source_id in [24, 93, 85]:\n",
    "    for question in results[1]:\n",
    "        resq = results[1][question]\n",
    "        if len(resq[\"sources\"]) == 0:\n",
    "            continue\n",
    "        if len([i for i in resq[\"sources\"] if i[\"id\"] == str(source_id)]) == 0:\n",
    "            continue\n",
    "        index_name = [i for i in resq[\"sources\"] if i[\"id\"] == str(source_id)][0]['index_name']\n",
    "        index_id = [i for i in resq[\"sources\"] if i[\"id\"] == str(source_id)][0]['index_id']\n",
    "        print(question, source_id, index_name, index_id)\n",
    "        index_sources = pd.read_parquet(f\"inputs/{index_name}/create_final_text_units.parquet\")\n",
    "        print([i for i in resq[\"sources\"] if i[\"id\"] == str(source_id)][0]['text'][:250])\n",
    "        print(index_sources.loc[int(index_id)][\"text\"][:250])\n",
    "        break"
   ]
  },
  {
   "cell_type": "markdown",
   "metadata": {},
   "source": [
    "### Multi-index Basic Search"
   ]
  },
  {
   "cell_type": "code",
   "execution_count": null,
   "metadata": {},
   "outputs": [],
   "source": [
    "text_units = [pd.read_parquet(f\"inputs/{index}/create_final_text_units.parquet\") for index in indexes]\n",
    "\n",
    "task = loop.create_task(multi_index_basic_search(parameters, text_units, indexes, False, \"industry in maryland\"))\n",
    "results = await task"
   ]
  },
  {
   "cell_type": "markdown",
   "metadata": {},
   "source": [
    "#### Print report"
   ]
  },
  {
   "cell_type": "code",
   "execution_count": 25,
   "metadata": {},
   "outputs": [
    {
     "name": "stdout",
     "output_type": "stream",
     "text": [
      "# Industry in Maryland\n",
      "\n",
      "Maryland's economy is diverse and robust, with significant contributions from various sectors, including manufacturing, biotechnology, transportation, and agriculture. The state's strategic location near Washington, D.C., and its access to major transportation hubs like the Port of Baltimore, play a crucial role in its industrial landscape.\n",
      "\n",
      "## Manufacturing\n",
      "\n",
      "Manufacturing in Maryland is highly diversified, with no single sub-sector contributing more than 20% of the total. Key manufacturing industries include electronics, computer equipment, and chemicals. Historically, the primary metals sub-sector was significant, with the Sparrows Point steel factory once being the largest in the world. However, this sector has faced challenges from foreign competition, bankruptcies, and mergers [Data: Sources (0, 1)].\n",
      "\n",
      "## Biotechnology\n",
      "\n",
      "Maryland is a major center for life sciences research and development, hosting more than 400 biotechnology companies, making it the fourth largest nexus in this field in the United States. The state is home to prominent institutions and government agencies involved in research and development, such as Johns Hopkins University, the National Institutes of Health (NIH), and the Food and Drug Administration (FDA) [Data: Sources (0, 1)].\n",
      "\n",
      "## Transportation and the Port of Baltimore\n",
      "\n",
      "Transportation is a significant service activity in Maryland, centered around the Port of Baltimore. The port is a major hub for imports, particularly raw materials and bulk commodities, and is the number one auto port in the U.S. The port's strategic location allows for efficient distribution to manufacturing centers in the inland Midwest [Data: Sources (0, 1)].\n",
      "\n",
      "## Agriculture and Food Production\n",
      "\n",
      "Agriculture remains an important part of Maryland's economy, with large areas of fertile land in the coastal and Piedmont zones. The state is known for dairy farming, specialty horticulture crops, and a significant chicken-farming sector. Maryland's food-processing plants are the most significant type of manufacturing by value in the state [Data: Sources (0, 1)].\n",
      "\n",
      "## Conclusion\n",
      "\n",
      "Maryland's industrial landscape is characterized by its diversity and strategic advantages, including proximity to federal government operations and major transportation routes. The state's economy benefits from a mix of traditional industries like manufacturing and agriculture, alongside cutting-edge sectors such as biotechnology and transportation. This combination positions Maryland as a dynamic player in the national economy.\n"
     ]
    }
   ],
   "source": [
    "print(results[0])"
   ]
  },
  {
   "cell_type": "markdown",
   "metadata": {},
   "source": [
    "#### Show context links back to original text\n",
    "\n",
    "Note that original index name is not saved in context data for basic search"
   ]
  },
  {
   "cell_type": "code",
   "execution_count": 26,
   "metadata": {},
   "outputs": [
    {
     "name": "stdout",
     "output_type": "stream",
     "text": [
      " highly diversified with no sub-sector contributing over 20 percent of the total. Typical forms of manufacturing include electronics, computer equipment, and chemicals. The once-mighty primary metals sub-sector, which once included what was then the \n",
      "20%. Demographically, both Protestants and those identifying with no religion are more numerous than Catholics.\n",
      "According to the Pew Research Center in 2014, 69 percent of Maryland's population identifies themselves as Christian. Nearly 52% of the ad\n"
     ]
    }
   ],
   "source": [
    "for source_id in [0, 1]:\n",
    "    print(results[1][\"sources\"][source_id][\"text\"][:250])"
   ]
  }
 ],
 "metadata": {
  "kernelspec": {
   "display_name": "base",
   "language": "python",
   "name": "python3"
  },
  "language_info": {
   "codemirror_mode": {
    "name": "ipython",
    "version": 3
   },
   "file_extension": ".py",
   "mimetype": "text/x-python",
   "name": "python",
   "nbconvert_exporter": "python",
   "pygments_lexer": "ipython3",
   "version": "3.11.5"
  }
 },
 "nbformat": 4,
 "nbformat_minor": 2
}
