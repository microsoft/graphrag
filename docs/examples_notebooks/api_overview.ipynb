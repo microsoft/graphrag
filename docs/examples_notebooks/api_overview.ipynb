{
 "cells": [
  {
   "cell_type": "code",
   "execution_count": 24,
   "metadata": {},
   "outputs": [],
   "source": [
    "# Copyright (c) 2024 Microsoft Corporation.\n",
    "# Licensed under the MIT License."
   ]
  },
  {
   "cell_type": "markdown",
   "metadata": {},
   "source": [
    "## API Overview\n",
    "\n",
    "This notebook provides a demonstration of how to interact with graphrag as a library using the API as opposed to the CLI. Note that graphrag's CLI actually connects to the library through this API for all operations. "
   ]
  },
  {
   "cell_type": "code",
   "execution_count": 25,
   "metadata": {},
   "outputs": [],
   "source": [
    "from pathlib import Path\n",
    "from pprint import pprint\n",
    "\n",
    "import pandas as pd\n",
    "\n",
    "import graphrag.api as api\n",
    "from graphrag.config.load_config import load_config\n",
    "from graphrag.index.typing.pipeline_run_result import PipelineRunResult"
   ]
  },
  {
   "cell_type": "code",
   "execution_count": null,
   "metadata": {},
   "outputs": [],
   "source": [
    "PROJECT_DIRECTORY = \"<your project directory>\""
   ]
  },
  {
   "cell_type": "markdown",
   "metadata": {},
   "source": [
    "## Prerequisite\n",
    "As a prerequisite to all API operations, a `GraphRagConfig` object is required. It is the primary means to control the behavior of graphrag and can be instantiated from a `settings.yaml` configuration file.\n",
    "\n",
    "Please refer to the [CLI docs](https://microsoft.github.io/graphrag/cli/#init) for more detailed information on how to generate the `settings.yaml` file."
   ]
  },
  {
   "cell_type": "markdown",
   "metadata": {},
   "source": [
    "### Generate a `GraphRagConfig` object"
   ]
  },
  {
   "cell_type": "code",
   "execution_count": 27,
   "metadata": {},
   "outputs": [],
   "source": [
    "graphrag_config = load_config(Path(PROJECT_DIRECTORY))"
   ]
  },
  {
   "cell_type": "markdown",
   "metadata": {},
   "source": [
    "## Indexing API\n",
    "\n",
    "*Indexing* is the process of ingesting raw text data and constructing a knowledge graph. GraphRAG currently supports plaintext (`.txt`) and `.csv` file formats."
   ]
  },
  {
   "cell_type": "markdown",
   "metadata": {},
   "source": [
    "## Build an index"
   ]
  },
  {
   "cell_type": "code",
   "execution_count": 28,
   "metadata": {},
   "outputs": [
    {
     "name": "stderr",
     "output_type": "stream",
     "text": [
      "No report found for community: 21.0\n",
      "No report found for community: 22.0\n",
      "No report found for community: 19.0\n",
      "No report found for community: 17.0\n",
      "No report found for community: 18.0\n",
      "No report found for community: 26.0\n",
      "No report found for community: 27.0\n",
      "No report found for community: 15.0\n",
      "No report found for community: 20.0\n",
      "No report found for community: 16.0\n",
      "No report found for community: 30.0\n",
      "No report found for community: 24.0\n",
      "No report found for community: 23.0\n",
      "No report found for community: 32.0\n",
      "No report found for community: 28.0\n",
      "No report found for community: 36.0\n",
      "No report found for community: 25.0\n",
      "No report found for community: 33.0\n",
      "No report found for community: 29.0\n",
      "No report found for community: 37.0\n",
      "No report found for community: 38.0\n",
      "No report found for community: 31.0\n",
      "No report found for community: 39.0\n",
      "No report found for community: 35.0\n",
      "No report found for community: 34.0\n",
      "No report found for community: 40.0\n",
      "No report found for community: 41.0\n",
      "No report found for community: 43.0\n",
      "No report found for community: 42.0\n",
      "No report found for community: 46.0\n",
      "No report found for community: 45.0\n",
      "No report found for community: 44.0\n",
      "No report found for community: 2.0\n",
      "No report found for community: 1.0\n",
      "No report found for community: 3.0\n",
      "No report found for community: 0.0\n",
      "No report found for community: 6.0\n",
      "No report found for community: 4.0\n",
      "No report found for community: 8.0\n",
      "No report found for community: 13.0\n",
      "No report found for community: 14.0\n",
      "No report found for community: 5.0\n",
      "No report found for community: 11.0\n",
      "No report found for community: 9.0\n",
      "No report found for community: 7.0\n",
      "No report found for community: 10.0\n",
      "No report found for community: 12.0\n",
      "error running workflow create_community_reports\n",
      "Traceback (most recent call last):\n",
      "  File \"/Users/naevans/dev/graphrag/graphrag/index/run/run_pipeline.py\", line 143, in _run_pipeline\n",
      "    result = await workflow_function(config, context)\n",
      "             ^^^^^^^^^^^^^^^^^^^^^^^^^^^^^^^^^^^^^^^^\n",
      "  File \"/Users/naevans/dev/graphrag/graphrag/index/workflows/create_community_reports.py\", line 59, in run_workflow\n",
      "    output = await create_community_reports(\n",
      "             ^^^^^^^^^^^^^^^^^^^^^^^^^^^^^^^\n",
      "  File \"/Users/naevans/dev/graphrag/graphrag/index/workflows/create_community_reports.py\", line 124, in create_community_reports\n",
      "    return finalize_community_reports(community_reports, communities)\n",
      "           ^^^^^^^^^^^^^^^^^^^^^^^^^^^^^^^^^^^^^^^^^^^^^^^^^^^^^^^^^^\n",
      "  File \"/Users/naevans/dev/graphrag/graphrag/index/operations/finalize_community_reports.py\", line 19, in finalize_community_reports\n",
      "    community_reports = reports.merge(\n",
      "                        ^^^^^^^^^^^^^^\n",
      "  File \"/Users/naevans/dev/graphrag/.venv/lib/python3.11/site-packages/pandas/core/frame.py\", line 10832, in merge\n",
      "    return merge(\n",
      "           ^^^^^^\n",
      "  File \"/Users/naevans/dev/graphrag/.venv/lib/python3.11/site-packages/pandas/core/reshape/merge.py\", line 170, in merge\n",
      "    op = _MergeOperation(\n",
      "         ^^^^^^^^^^^^^^^^\n",
      "  File \"/Users/naevans/dev/graphrag/.venv/lib/python3.11/site-packages/pandas/core/reshape/merge.py\", line 794, in __init__\n",
      "    ) = self._get_merge_keys()\n",
      "        ^^^^^^^^^^^^^^^^^^^^^^\n",
      "  File \"/Users/naevans/dev/graphrag/.venv/lib/python3.11/site-packages/pandas/core/reshape/merge.py\", line 1310, in _get_merge_keys\n",
      "    left_keys.append(left._get_label_or_level_values(lk))\n",
      "                     ^^^^^^^^^^^^^^^^^^^^^^^^^^^^^^^^^^^\n",
      "  File \"/Users/naevans/dev/graphrag/.venv/lib/python3.11/site-packages/pandas/core/generic.py\", line 1911, in _get_label_or_level_values\n",
      "    raise KeyError(key)\n",
      "KeyError: 'community'\n"
     ]
    },
    {
     "name": "stdout",
     "output_type": "stream",
     "text": [
      "Workflow Name: create_base_text_units\tStatus: success\n",
      "Workflow Name: create_final_documents\tStatus: success\n",
      "Workflow Name: extract_graph\tStatus: success\n",
      "Workflow Name: finalize_graph\tStatus: success\n",
      "Workflow Name: extract_covariates\tStatus: success\n",
      "Workflow Name: create_communities\tStatus: success\n",
      "Workflow Name: create_final_text_units\tStatus: success\n",
      "Workflow Name: create_community_reports\tStatus: error\n",
      "[KeyError('community')]\n"
     ]
    }
   ],
   "source": [
    "index_result: list[PipelineRunResult] = await api.build_index(config=graphrag_config)\n",
    "\n",
    "# index_result is a list of workflows that make up the indexing pipeline that was run\n",
    "for workflow_result in index_result:\n",
    "    status = f\"error\\n{workflow_result.errors}\" if workflow_result.errors else \"success\"\n",
    "    print(f\"Workflow Name: {workflow_result.workflow}\\tStatus: {status}\")"
   ]
  },
  {
   "cell_type": "markdown",
   "metadata": {},
   "source": [
    "## Query an index\n",
    "\n",
    "To query an index, several index files must first be read into memory and passed to the query API. "
   ]
  },
  {
   "cell_type": "code",
   "execution_count": 29,
   "metadata": {},
   "outputs": [],
   "source": [
    "entities = pd.read_parquet(f\"{PROJECT_DIRECTORY}/output/entities.parquet\")\n",
    "communities = pd.read_parquet(f\"{PROJECT_DIRECTORY}/output/communities.parquet\")\n",
    "community_reports = pd.read_parquet(\n",
    "    f\"{PROJECT_DIRECTORY}/output/community_reports.parquet\"\n",
    ")\n",
    "\n",
    "response, context = await api.global_search(\n",
    "    config=graphrag_config,\n",
    "    entities=entities,\n",
    "    communities=communities,\n",
    "    community_reports=community_reports,\n",
    "    community_level=2,\n",
    "    dynamic_community_selection=False,\n",
    "    response_type=\"Multiple Paragraphs\",\n",
    "    query=\"Who is Scrooge and what are his main relationships?\",\n",
    ")"
   ]
  },
  {
   "cell_type": "markdown",
   "metadata": {},
   "source": [
    "The response object is the official reponse from graphrag while the context object holds various metadata regarding the querying process used to obtain the final response."
   ]
  },
  {
   "cell_type": "code",
   "execution_count": 30,
   "metadata": {},
   "outputs": [
    {
     "name": "stdout",
     "output_type": "stream",
     "text": [
      "### Ebenezer Scrooge: Character Overview\n",
      "\n",
      "Ebenezer Scrooge, often referred to simply as Scrooge, is the central figure in the community. Initially, he is depicted as a wealthy, miserly, and unfeeling man, known for his uncharitable nature, particularly during Christmas time. Scrooge lives alone in a gloomy suite of rooms that once belonged to his deceased business partner, Jacob Marley. His practical and unimaginative nature makes him a solitary figure, described as a 'covetous old sinner' [Data: Reports (0, 1, 7, 25, 36)].\n",
      "\n",
      "### Key Relationships\n",
      "\n",
      "#### Jacob Marley\n",
      "Scrooge's most significant relationship is with Jacob Marley, his deceased business partner. Marley's ghost visits Scrooge to warn him of the impending visits from other spirits, setting the stage for Scrooge's transformative journey. Marley plays a crucial role in initiating Scrooge's transformation by predicting the visit of three spirits who will guide Scrooge through scenes of his past, present, and future [Data: Reports (0, 7, 15, 35, 36, +more)].\n",
      "\n",
      "#### The Spirits\n",
      "Scrooge is visited by three spirits: the Ghost of Christmas Past, the Ghost of Christmas Present, and the Ghost of Christmas Yet to Come. These spirits guide him through scenes of Christmas celebrations, desolate places, and visions of his past, present, and future. Through these supernatural visits, Scrooge experiences a range of emotions, from joy to sorrow, as he revisits memories and observes the events and conversations around him. This journey is crucial in Scrooge's transformation [Data: Reports (0, 1, 7, 15, 35, +more)].\n",
      "\n",
      "#### Bob Cratchit\n",
      "Scrooge's relationship with his clerk, Bob Cratchit, highlights his initial miserly behavior and the harsh working conditions he imposes. Despite his financial struggles, Cratchit remains committed to his family and his work. Scrooge's transformation has a profound impact on Cratchit and his family, particularly by providing a turkey for their Christmas meal and raising Bob's salary [Data: Reports (3, 7, 25, 36)].\n",
      "\n",
      "#### Fred\n",
      "Fred, Scrooge's nephew, is known for his warm and welcoming nature. He invites Scrooge to dinner and proposes a toast to him, showcasing his good-natured and jovial personality. Despite Scrooge's initial rejection of Fred's invitations, Fred remains a positive influence in Scrooge's life, representing the warmth and generosity that Scrooge initially lacks [Data: Reports (0, 19)].\n",
      "\n",
      "### Conclusion\n",
      "\n",
      "Ultimately, Scrooge undergoes a significant transformation, becoming generous and kind-hearted. He promises to remember the advice of the spirits and experiences a change of heart and generosity on Christmas Day. This transformation marks a stark contrast to his previous miserly and uncharitable nature, highlighting the central theme of redemption and the spirit of Christmas. Scrooge's newfound generosity positively impacts those around him, including his employee Bob Cratchit and his family, as well as the broader community [Data: Reports (0)].\n"
     ]
    }
   ],
   "source": [
    "print(response)"
   ]
  },
  {
   "cell_type": "markdown",
   "metadata": {},
   "source": [
    "Digging into the context a bit more provides users with extremely granular information such as what sources of data (down to the level of text chunks) were ultimately retrieved and used as part of the context sent to the LLM model)."
   ]
  },
  {
   "cell_type": "code",
   "execution_count": 31,
   "metadata": {},
   "outputs": [
    {
     "name": "stdout",
     "output_type": "stream",
     "text": [
      "{'reports':     id                                              title  occurrence weight  \\\n",
      "0    1               Scrooge and the Spirits of Christmas           0.612903   \n",
      "1    7                       Scrooge and Marley Community           0.580645   \n",
      "2   10          Christmas Celebrations and Key Characters           0.354839   \n",
      "3   37  Scrooge and Marley Business and Supernatural E...           0.290323   \n",
      "4   25                 Scrooge and Bob Cratchit Community           0.258065   \n",
      "5   36                 Scrooge and Jacob Marley Community           0.225806   \n",
      "6   45          Project Gutenberg and its Legal Framework           0.193548   \n",
      "7    2        Christmas Day Celebrations and Key Entities           0.161290   \n",
      "8   33              Scrooge and the Phantom's Revelations           0.129032   \n",
      "9   38  Project Gutenberg Literary Archive Foundation ...           0.129032   \n",
      "10  12       Joe's Shop and the Deceased Man's Belongings           0.096774   \n",
      "11   4           Fezziwig's Christmas Eve Party Community           0.096774   \n",
      "12  32            Cheerful Company in the Hut on the Moor           0.096774   \n",
      "13   6                           Old Joe's Shop Community           0.064516   \n",
      "14  22           Bakers and Christmas Day Dinner-Carriers           0.032258   \n",
      "15  42                  City Streets and Associated Areas           0.032258   \n",
      "16  46                  Project Gutenberg eBook Community           0.032258   \n",
      "17  23              Fruiterers' Shops and Their Offerings           0.032258   \n",
      "18  43                  Christmas Celebration on the Ship           0.032258   \n",
      "19  18                           Scrooge and the Speakers           0.032258   \n",
      "20  29                Fezziwig's Party and Key Characters           0.032258   \n",
      "21  31       Fezziwig's Party Attendees: Cook and Milkman           0.032258   \n",
      "22   0    Ebenezer Scrooge and His Transformative Journey           1.000000   \n",
      "23  24         Cratchit Family and Christmas Celebrations           0.354839   \n",
      "24  41            Christmas Celebrations in Great Britain           0.290323   \n",
      "25  13                  Project Gutenberg Digital Library           0.193548   \n",
      "26   5  Scrooge and the Cheerful Company in the Hut on...           0.193548   \n",
      "27  40       Ghost of Christmas Present and Plenty's Horn           0.161290   \n",
      "28  21       Christmas Day Celebrations and Key Locations           0.161290   \n",
      "29   9                        Project Gutenberg Community           0.129032   \n",
      "30  14                       Scrooge's Family and Friends           0.129032   \n",
      "31  19                    Fred and Scrooge's Relationship           0.129032   \n",
      "32  30                   Scrooge and Fezziwig's Warehouse           0.096774   \n",
      "33  26    Bob Cratchit and Mr. Scrooge's Nephew Community           0.064516   \n",
      "34  27                     Fezziwig's Christmas Eve Party           0.064516   \n",
      "35  17                       Scrooge's Family Connections           0.064516   \n",
      "36  39                       Project Gutenberg™ Community           0.032258   \n",
      "37   8                      Scrooge's Mansion and Grounds           0.032258   \n",
      "38  11             Old Ghost and Wretched Woman Community           0.032258   \n",
      "39  20                    Phantoms and Guilty Governments           0.032258   \n",
      "40  44     Lighthouse Keepers and the Solitary Lighthouse           0.032258   \n",
      "41  34    Family Dynamics: Father, Matron, and Young Girl           0.032258   \n",
      "42  28    Fezziwig's Party Attendees: Baker and Housemaid           0.032258   \n",
      "43  15    Ebenezer Scrooge and His Transformative Journey           0.967742   \n",
      "44   3               Cratchit Family and Scrooge's Office           0.387097   \n",
      "45  35                   Ebenezer Scrooge and the Spirits           0.290323   \n",
      "46  16                               Scrooge and the City           0.258065   \n",
      "\n",
      "                                              content  rank  \n",
      "0   # Scrooge and the Spirits of Christmas\\n\\nThe ...   7.5  \n",
      "1   # Scrooge and Marley Community\\n\\nThe communit...   8.5  \n",
      "2   # Christmas Celebrations and Key Characters\\n\\...   7.5  \n",
      "3   # Scrooge and Marley Business and Supernatural...   7.5  \n",
      "4   # Scrooge and Bob Cratchit Community\\n\\nThe co...   7.5  \n",
      "5   # Scrooge and Jacob Marley Community\\n\\nThe co...   7.5  \n",
      "6   # Project Gutenberg and its Legal Framework\\n\\...   7.5  \n",
      "7   # Christmas Day Celebrations and Key Entities\\...   7.5  \n",
      "8   # Scrooge and the Phantom's Revelations\\n\\nThe...   7.5  \n",
      "9   # Project Gutenberg Literary Archive Foundatio...   7.5  \n",
      "10  # Joe's Shop and the Deceased Man's Belongings...   4.5  \n",
      "11  # Fezziwig's Christmas Eve Party Community\\n\\n...   3.5  \n",
      "12  # Cheerful Company in the Hut on the Moor\\n\\nT...   3.0  \n",
      "13  # Old Joe's Shop Community\\n\\nThe community re...   4.5  \n",
      "14  # Bakers and Christmas Day Dinner-Carriers\\n\\n...   4.5  \n",
      "15  # City Streets and Associated Areas\\n\\nThe com...   4.5  \n",
      "16  # Project Gutenberg eBook Community\\n\\nThe com...   4.0  \n",
      "17  # Fruiterers' Shops and Their Offerings\\n\\nThe...   3.5  \n",
      "18  # Christmas Celebration on the Ship\\n\\nThe com...   3.5  \n",
      "19  # Scrooge and the Speakers\\n\\nThe community re...   3.5  \n",
      "20  # Fezziwig's Party and Key Characters\\n\\nThe c...   3.5  \n",
      "21  # Fezziwig's Party Attendees: Cook and Milkman...   2.0  \n",
      "22  # Ebenezer Scrooge and His Transformative Jour...   8.5  \n",
      "23  # Cratchit Family and Christmas Celebrations\\n...   7.5  \n",
      "24  # Christmas Celebrations in Great Britain\\n\\nT...   7.5  \n",
      "25  # Project Gutenberg Digital Library\\n\\nThe com...   7.5  \n",
      "26  # Scrooge and the Cheerful Company in the Hut ...   7.5  \n",
      "27  # Ghost of Christmas Present and Plenty's Horn...   7.5  \n",
      "28  # Christmas Day Celebrations and Key Locations...   7.5  \n",
      "29  # Project Gutenberg Community\\n\\nThe Project G...   7.5  \n",
      "30  # Scrooge's Family and Friends\\n\\nThe communit...   4.5  \n",
      "31  # Fred and Scrooge's Relationship\\n\\nThe commu...   4.5  \n",
      "32  # Scrooge and Fezziwig's Warehouse\\n\\nThe comm...   6.5  \n",
      "33  # Bob Cratchit and Mr. Scrooge's Nephew Commun...   4.0  \n",
      "34  # Fezziwig's Christmas Eve Party\\n\\nThe commun...   3.5  \n",
      "35  # Scrooge's Family Connections\\n\\nThe communit...   3.0  \n",
      "36  # Project Gutenberg™ Community\\n\\nThe Project ...   7.5  \n",
      "37  # Scrooge's Mansion and Grounds\\n\\nThe communi...   6.5  \n",
      "38  # Old Ghost and Wretched Woman Community\\n\\nTh...   4.5  \n",
      "39  # Phantoms and Guilty Governments\\n\\nThe commu...   4.0  \n",
      "40  # Lighthouse Keepers and the Solitary Lighthou...   4.0  \n",
      "41  # Family Dynamics: Father, Matron, and Young G...   3.5  \n",
      "42  # Fezziwig's Party Attendees: Baker and Housem...   3.0  \n",
      "43  # Ebenezer Scrooge and His Transformative Jour...   8.5  \n",
      "44  # Cratchit Family and Scrooge's Office\\n\\nThe ...   7.5  \n",
      "45  # Ebenezer Scrooge and the Spirits\\n\\nThe comm...   8.5  \n",
      "46  # Scrooge and the City\\n\\nThe community revolv...   7.5  }\n"
     ]
    }
   ],
   "source": [
    "pprint(context)  # noqa: T203"
   ]
  }
 ],
 "metadata": {
  "kernelspec": {
   "display_name": ".venv",
   "language": "python",
   "name": "python3"
  },
  "language_info": {
   "codemirror_mode": {
    "name": "ipython",
    "version": 3
   },
   "file_extension": ".py",
   "mimetype": "text/x-python",
   "name": "python",
   "nbconvert_exporter": "python",
   "pygments_lexer": "ipython3",
   "version": "3.11.9"
  }
 },
 "nbformat": 4,
 "nbformat_minor": 2
}
